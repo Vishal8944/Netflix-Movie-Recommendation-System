{
 "cells": [
  {
   "cell_type": "markdown",
   "id": "5d041ed6-ca85-4540-9b4e-04f8dffa4774",
   "metadata": {},
   "source": [
    "### Importing Libraries:"
   ]
  },
  {
   "cell_type": "code",
   "execution_count": 20,
   "id": "a4b8ea8b-114a-4c4a-b292-282f00a7ebd1",
   "metadata": {},
   "outputs": [],
   "source": [
    "import pandas as pd\n",
    "import numpy as np\n",
    "from sklearn.feature_extraction.text import TfidfVectorizer\n",
    "from sklearn.metrics.pairwise import cosine_similarity\n",
    "import warnings\n",
    "warnings.filterwarnings(action = \"ignore\")"
   ]
  },
  {
   "cell_type": "code",
   "execution_count": null,
   "id": "2b265093-f8e0-425a-aefd-e5a3dc7d61d8",
   "metadata": {},
   "outputs": [],
   "source": []
  },
  {
   "cell_type": "markdown",
   "id": "837a9a87-ce70-452d-9598-1ffef8b5313e",
   "metadata": {},
   "source": [
    "### Loading Dataset:"
   ]
  },
  {
   "cell_type": "code",
   "execution_count": 21,
   "id": "587c033f-10ec-4601-85a4-62b481d8555a",
   "metadata": {},
   "outputs": [
    {
     "data": {
      "text/html": [
       "<div>\n",
       "<style scoped>\n",
       "    .dataframe tbody tr th:only-of-type {\n",
       "        vertical-align: middle;\n",
       "    }\n",
       "\n",
       "    .dataframe tbody tr th {\n",
       "        vertical-align: top;\n",
       "    }\n",
       "\n",
       "    .dataframe thead th {\n",
       "        text-align: right;\n",
       "    }\n",
       "</style>\n",
       "<table border=\"1\" class=\"dataframe\">\n",
       "  <thead>\n",
       "    <tr style=\"text-align: right;\">\n",
       "      <th></th>\n",
       "      <th>imdb_id</th>\n",
       "      <th>title</th>\n",
       "      <th>type</th>\n",
       "      <th>rating</th>\n",
       "      <th>numVotes</th>\n",
       "      <th>genres</th>\n",
       "      <th>isAdult</th>\n",
       "    </tr>\n",
       "  </thead>\n",
       "  <tbody>\n",
       "    <tr>\n",
       "      <th>0</th>\n",
       "      <td>tt4052886</td>\n",
       "      <td>Lucifer</td>\n",
       "      <td>tvSeries</td>\n",
       "      <td>8.1</td>\n",
       "      <td>250884.0</td>\n",
       "      <td>Crime,Drama,Fantasy</td>\n",
       "      <td>0</td>\n",
       "    </tr>\n",
       "    <tr>\n",
       "      <th>1</th>\n",
       "      <td>tt0993840</td>\n",
       "      <td>Army of the Dead</td>\n",
       "      <td>movie</td>\n",
       "      <td>5.8</td>\n",
       "      <td>110780.0</td>\n",
       "      <td>Action,Crime,Horror</td>\n",
       "      <td>0</td>\n",
       "    </tr>\n",
       "    <tr>\n",
       "      <th>2</th>\n",
       "      <td>tt7255502</td>\n",
       "      <td>The Kominsky Method</td>\n",
       "      <td>tvSeries</td>\n",
       "      <td>8.2</td>\n",
       "      <td>28795.0</td>\n",
       "      <td>Comedy,Drama</td>\n",
       "      <td>0</td>\n",
       "    </tr>\n",
       "    <tr>\n",
       "      <th>3</th>\n",
       "      <td>tt0108778</td>\n",
       "      <td>Friends</td>\n",
       "      <td>tvSeries</td>\n",
       "      <td>8.9</td>\n",
       "      <td>861843.0</td>\n",
       "      <td>Comedy,Romance</td>\n",
       "      <td>0</td>\n",
       "    </tr>\n",
       "    <tr>\n",
       "      <th>4</th>\n",
       "      <td>tt9251798</td>\n",
       "      <td>Ragnarok</td>\n",
       "      <td>tvSeries</td>\n",
       "      <td>7.5</td>\n",
       "      <td>26606.0</td>\n",
       "      <td>Action,Drama,Fantasy</td>\n",
       "      <td>0</td>\n",
       "    </tr>\n",
       "    <tr>\n",
       "      <th>...</th>\n",
       "      <td>...</td>\n",
       "      <td>...</td>\n",
       "      <td>...</td>\n",
       "      <td>...</td>\n",
       "      <td>...</td>\n",
       "      <td>...</td>\n",
       "      <td>...</td>\n",
       "    </tr>\n",
       "    <tr>\n",
       "      <th>7003</th>\n",
       "      <td>tt9777386</td>\n",
       "      <td>Merry Happy Whatever</td>\n",
       "      <td>tvEpisode</td>\n",
       "      <td>6.1</td>\n",
       "      <td>221.0</td>\n",
       "      <td>Comedy</td>\n",
       "      <td>0</td>\n",
       "    </tr>\n",
       "    <tr>\n",
       "      <th>7004</th>\n",
       "      <td>tt9790434</td>\n",
       "      <td>The Morning Show</td>\n",
       "      <td>tvEpisode</td>\n",
       "      <td>NaN</td>\n",
       "      <td>NaN</td>\n",
       "      <td>\\N</td>\n",
       "      <td>0</td>\n",
       "    </tr>\n",
       "    <tr>\n",
       "      <th>7005</th>\n",
       "      <td>tt9817600</td>\n",
       "      <td>Losers</td>\n",
       "      <td>tvEpisode</td>\n",
       "      <td>8.0</td>\n",
       "      <td>221.0</td>\n",
       "      <td>Documentary,Sport</td>\n",
       "      <td>0</td>\n",
       "    </tr>\n",
       "    <tr>\n",
       "      <th>7006</th>\n",
       "      <td>tt9842922</td>\n",
       "      <td>Firefly Lane</td>\n",
       "      <td>tvEpisode</td>\n",
       "      <td>7.3</td>\n",
       "      <td>380.0</td>\n",
       "      <td>Drama,Romance</td>\n",
       "      <td>0</td>\n",
       "    </tr>\n",
       "    <tr>\n",
       "      <th>7007</th>\n",
       "      <td>tt9865968</td>\n",
       "      <td>Medical Police</td>\n",
       "      <td>tvEpisode</td>\n",
       "      <td>6.6</td>\n",
       "      <td>133.0</td>\n",
       "      <td>Comedy</td>\n",
       "      <td>0</td>\n",
       "    </tr>\n",
       "  </tbody>\n",
       "</table>\n",
       "<p>7008 rows × 7 columns</p>\n",
       "</div>"
      ],
      "text/plain": [
       "        imdb_id                  title       type  rating  numVotes  \\\n",
       "0     tt4052886                Lucifer   tvSeries     8.1  250884.0   \n",
       "1     tt0993840       Army of the Dead      movie     5.8  110780.0   \n",
       "2     tt7255502    The Kominsky Method   tvSeries     8.2   28795.0   \n",
       "3     tt0108778                Friends   tvSeries     8.9  861843.0   \n",
       "4     tt9251798               Ragnarok   tvSeries     7.5   26606.0   \n",
       "...         ...                    ...        ...     ...       ...   \n",
       "7003  tt9777386   Merry Happy Whatever  tvEpisode     6.1     221.0   \n",
       "7004  tt9790434       The Morning Show  tvEpisode     NaN       NaN   \n",
       "7005  tt9817600                 Losers  tvEpisode     8.0     221.0   \n",
       "7006  tt9842922           Firefly Lane  tvEpisode     7.3     380.0   \n",
       "7007  tt9865968         Medical Police  tvEpisode     6.6     133.0   \n",
       "\n",
       "                    genres  isAdult  \n",
       "0      Crime,Drama,Fantasy        0  \n",
       "1      Action,Crime,Horror        0  \n",
       "2             Comedy,Drama        0  \n",
       "3           Comedy,Romance        0  \n",
       "4     Action,Drama,Fantasy        0  \n",
       "...                    ...      ...  \n",
       "7003                Comedy        0  \n",
       "7004                    \\N        0  \n",
       "7005     Documentary,Sport        0  \n",
       "7006         Drama,Romance        0  \n",
       "7007                Comedy        0  \n",
       "\n",
       "[7008 rows x 7 columns]"
      ]
     },
     "execution_count": 21,
     "metadata": {},
     "output_type": "execute_result"
    }
   ],
   "source": [
    "df=pd.read_csv(r\"C:\\Users\\Vishal S\\OneDrive\\Desktop\\net.csv\")\n",
    "df"
   ]
  },
  {
   "cell_type": "code",
   "execution_count": null,
   "id": "7111b69b-e4ea-4fb7-b5e6-dc71a989e9c9",
   "metadata": {},
   "outputs": [],
   "source": []
  },
  {
   "cell_type": "markdown",
   "id": "a7c04d7b-fc1a-44d3-bb11-00006b00a113",
   "metadata": {},
   "source": [
    "### Analysing Data:"
   ]
  },
  {
   "cell_type": "code",
   "execution_count": 22,
   "id": "a43a21e5-8fb8-4b82-bef5-4a46ef4517cf",
   "metadata": {},
   "outputs": [
    {
     "data": {
      "text/plain": [
       "(7008, 7)"
      ]
     },
     "execution_count": 22,
     "metadata": {},
     "output_type": "execute_result"
    }
   ],
   "source": [
    "df.shape"
   ]
  },
  {
   "cell_type": "code",
   "execution_count": 23,
   "id": "0e97d2dd-0639-4294-982a-c701ed8a2a0d",
   "metadata": {},
   "outputs": [
    {
     "data": {
      "text/html": [
       "<div>\n",
       "<style scoped>\n",
       "    .dataframe tbody tr th:only-of-type {\n",
       "        vertical-align: middle;\n",
       "    }\n",
       "\n",
       "    .dataframe tbody tr th {\n",
       "        vertical-align: top;\n",
       "    }\n",
       "\n",
       "    .dataframe thead th {\n",
       "        text-align: right;\n",
       "    }\n",
       "</style>\n",
       "<table border=\"1\" class=\"dataframe\">\n",
       "  <thead>\n",
       "    <tr style=\"text-align: right;\">\n",
       "      <th></th>\n",
       "      <th>imdb_id</th>\n",
       "      <th>title</th>\n",
       "      <th>type</th>\n",
       "      <th>rating</th>\n",
       "      <th>numVotes</th>\n",
       "      <th>genres</th>\n",
       "      <th>isAdult</th>\n",
       "    </tr>\n",
       "  </thead>\n",
       "  <tbody>\n",
       "    <tr>\n",
       "      <th>0</th>\n",
       "      <td>tt4052886</td>\n",
       "      <td>Lucifer</td>\n",
       "      <td>tvSeries</td>\n",
       "      <td>8.1</td>\n",
       "      <td>250884.0</td>\n",
       "      <td>Crime,Drama,Fantasy</td>\n",
       "      <td>0</td>\n",
       "    </tr>\n",
       "    <tr>\n",
       "      <th>1</th>\n",
       "      <td>tt0993840</td>\n",
       "      <td>Army of the Dead</td>\n",
       "      <td>movie</td>\n",
       "      <td>5.8</td>\n",
       "      <td>110780.0</td>\n",
       "      <td>Action,Crime,Horror</td>\n",
       "      <td>0</td>\n",
       "    </tr>\n",
       "    <tr>\n",
       "      <th>2</th>\n",
       "      <td>tt7255502</td>\n",
       "      <td>The Kominsky Method</td>\n",
       "      <td>tvSeries</td>\n",
       "      <td>8.2</td>\n",
       "      <td>28795.0</td>\n",
       "      <td>Comedy,Drama</td>\n",
       "      <td>0</td>\n",
       "    </tr>\n",
       "    <tr>\n",
       "      <th>3</th>\n",
       "      <td>tt0108778</td>\n",
       "      <td>Friends</td>\n",
       "      <td>tvSeries</td>\n",
       "      <td>8.9</td>\n",
       "      <td>861843.0</td>\n",
       "      <td>Comedy,Romance</td>\n",
       "      <td>0</td>\n",
       "    </tr>\n",
       "    <tr>\n",
       "      <th>4</th>\n",
       "      <td>tt9251798</td>\n",
       "      <td>Ragnarok</td>\n",
       "      <td>tvSeries</td>\n",
       "      <td>7.5</td>\n",
       "      <td>26606.0</td>\n",
       "      <td>Action,Drama,Fantasy</td>\n",
       "      <td>0</td>\n",
       "    </tr>\n",
       "    <tr>\n",
       "      <th>5</th>\n",
       "      <td>tt5028002</td>\n",
       "      <td>StartUp</td>\n",
       "      <td>tvSeries</td>\n",
       "      <td>8.0</td>\n",
       "      <td>16980.0</td>\n",
       "      <td>Crime,Thriller</td>\n",
       "      <td>0</td>\n",
       "    </tr>\n",
       "    <tr>\n",
       "      <th>6</th>\n",
       "      <td>tt0413573</td>\n",
       "      <td>Grey's Anatomy</td>\n",
       "      <td>tvSeries</td>\n",
       "      <td>7.5</td>\n",
       "      <td>260703.0</td>\n",
       "      <td>Drama,Romance</td>\n",
       "      <td>0</td>\n",
       "    </tr>\n",
       "    <tr>\n",
       "      <th>7</th>\n",
       "      <td>tt12809988</td>\n",
       "      <td>Sweet Tooth</td>\n",
       "      <td>tvSeries</td>\n",
       "      <td>8.2</td>\n",
       "      <td>9622.0</td>\n",
       "      <td>Action,Adventure,Drama</td>\n",
       "      <td>0</td>\n",
       "    </tr>\n",
       "    <tr>\n",
       "      <th>8</th>\n",
       "      <td>tt2741602</td>\n",
       "      <td>The Blacklist</td>\n",
       "      <td>tvSeries</td>\n",
       "      <td>8.0</td>\n",
       "      <td>207174.0</td>\n",
       "      <td>Crime,Drama,Mystery</td>\n",
       "      <td>0</td>\n",
       "    </tr>\n",
       "    <tr>\n",
       "      <th>9</th>\n",
       "      <td>tt5774002</td>\n",
       "      <td>Jupiter's Legacy</td>\n",
       "      <td>tvSeries</td>\n",
       "      <td>6.8</td>\n",
       "      <td>27309.0</td>\n",
       "      <td>Action,Adventure,Drama</td>\n",
       "      <td>0</td>\n",
       "    </tr>\n",
       "  </tbody>\n",
       "</table>\n",
       "</div>"
      ],
      "text/plain": [
       "      imdb_id                title      type  rating  numVotes  \\\n",
       "0   tt4052886              Lucifer  tvSeries     8.1  250884.0   \n",
       "1   tt0993840     Army of the Dead     movie     5.8  110780.0   \n",
       "2   tt7255502  The Kominsky Method  tvSeries     8.2   28795.0   \n",
       "3   tt0108778              Friends  tvSeries     8.9  861843.0   \n",
       "4   tt9251798             Ragnarok  tvSeries     7.5   26606.0   \n",
       "5   tt5028002              StartUp  tvSeries     8.0   16980.0   \n",
       "6   tt0413573       Grey's Anatomy  tvSeries     7.5  260703.0   \n",
       "7  tt12809988          Sweet Tooth  tvSeries     8.2    9622.0   \n",
       "8   tt2741602        The Blacklist  tvSeries     8.0  207174.0   \n",
       "9   tt5774002     Jupiter's Legacy  tvSeries     6.8   27309.0   \n",
       "\n",
       "                   genres  isAdult  \n",
       "0     Crime,Drama,Fantasy        0  \n",
       "1     Action,Crime,Horror        0  \n",
       "2            Comedy,Drama        0  \n",
       "3          Comedy,Romance        0  \n",
       "4    Action,Drama,Fantasy        0  \n",
       "5          Crime,Thriller        0  \n",
       "6           Drama,Romance        0  \n",
       "7  Action,Adventure,Drama        0  \n",
       "8     Crime,Drama,Mystery        0  \n",
       "9  Action,Adventure,Drama        0  "
      ]
     },
     "execution_count": 23,
     "metadata": {},
     "output_type": "execute_result"
    }
   ],
   "source": [
    "df.head(10)"
   ]
  },
  {
   "cell_type": "code",
   "execution_count": 24,
   "id": "49f751de-2e42-426e-9c0f-c2551d24f64a",
   "metadata": {},
   "outputs": [
    {
     "data": {
      "text/plain": [
       "imdb_id      object\n",
       "title        object\n",
       "type         object\n",
       "rating      float64\n",
       "numVotes    float64\n",
       "genres       object\n",
       "isAdult       int64\n",
       "dtype: object"
      ]
     },
     "execution_count": 24,
     "metadata": {},
     "output_type": "execute_result"
    }
   ],
   "source": [
    "df.dtypes"
   ]
  },
  {
   "cell_type": "code",
   "execution_count": 25,
   "id": "77568530-86b3-4427-8815-cc0b484884a7",
   "metadata": {},
   "outputs": [
    {
     "name": "stdout",
     "output_type": "stream",
     "text": [
      "<class 'pandas.core.frame.DataFrame'>\n",
      "RangeIndex: 7008 entries, 0 to 7007\n",
      "Data columns (total 7 columns):\n",
      " #   Column    Non-Null Count  Dtype  \n",
      "---  ------    --------------  -----  \n",
      " 0   imdb_id   7008 non-null   object \n",
      " 1   title     7008 non-null   object \n",
      " 2   type      7006 non-null   object \n",
      " 3   rating    6000 non-null   float64\n",
      " 4   numVotes  6000 non-null   float64\n",
      " 5   genres    7006 non-null   object \n",
      " 6   isAdult   7008 non-null   int64  \n",
      "dtypes: float64(2), int64(1), object(4)\n",
      "memory usage: 383.4+ KB\n"
     ]
    }
   ],
   "source": [
    "df.info()"
   ]
  },
  {
   "cell_type": "code",
   "execution_count": 26,
   "id": "bff09a78-d453-4cb6-a235-11435a0118e4",
   "metadata": {},
   "outputs": [
    {
     "data": {
      "text/plain": [
       "imdb_id        0\n",
       "title          0\n",
       "type           2\n",
       "rating      1008\n",
       "numVotes    1008\n",
       "genres         2\n",
       "isAdult        0\n",
       "dtype: int64"
      ]
     },
     "execution_count": 26,
     "metadata": {},
     "output_type": "execute_result"
    }
   ],
   "source": [
    "df.isnull().sum()"
   ]
  },
  {
   "cell_type": "code",
   "execution_count": 27,
   "id": "550a83bf-c073-4c28-99e4-a3239c7e0923",
   "metadata": {},
   "outputs": [
    {
     "data": {
      "text/plain": [
       "0"
      ]
     },
     "execution_count": 27,
     "metadata": {},
     "output_type": "execute_result"
    }
   ],
   "source": [
    "df.duplicated().sum()"
   ]
  },
  {
   "cell_type": "code",
   "execution_count": null,
   "id": "e4225f0b-3555-4a3b-89b0-69ed1179c322",
   "metadata": {},
   "outputs": [],
   "source": []
  },
  {
   "cell_type": "code",
   "execution_count": null,
   "id": "520f39ea-e3bb-4bca-a705-2c7a3de7dae8",
   "metadata": {},
   "outputs": [],
   "source": []
  },
  {
   "cell_type": "markdown",
   "id": "14904e08-3285-4202-9226-6408f09040aa",
   "metadata": {},
   "source": [
    "### Removing Null Values:"
   ]
  },
  {
   "cell_type": "code",
   "execution_count": 28,
   "id": "8cfcff19-ba1f-4585-9561-4863b990ebf4",
   "metadata": {},
   "outputs": [],
   "source": [
    "dff = df.dropna().reset_index(drop=True)"
   ]
  },
  {
   "cell_type": "code",
   "execution_count": 29,
   "id": "b0f2efd0-e8cf-45ab-af09-c82e974b6ea8",
   "metadata": {},
   "outputs": [
    {
     "data": {
      "text/html": [
       "<div>\n",
       "<style scoped>\n",
       "    .dataframe tbody tr th:only-of-type {\n",
       "        vertical-align: middle;\n",
       "    }\n",
       "\n",
       "    .dataframe tbody tr th {\n",
       "        vertical-align: top;\n",
       "    }\n",
       "\n",
       "    .dataframe thead th {\n",
       "        text-align: right;\n",
       "    }\n",
       "</style>\n",
       "<table border=\"1\" class=\"dataframe\">\n",
       "  <thead>\n",
       "    <tr style=\"text-align: right;\">\n",
       "      <th></th>\n",
       "      <th>imdb_id</th>\n",
       "      <th>title</th>\n",
       "      <th>type</th>\n",
       "      <th>rating</th>\n",
       "      <th>numVotes</th>\n",
       "      <th>genres</th>\n",
       "      <th>isAdult</th>\n",
       "    </tr>\n",
       "  </thead>\n",
       "  <tbody>\n",
       "    <tr>\n",
       "      <th>0</th>\n",
       "      <td>tt4052886</td>\n",
       "      <td>Lucifer</td>\n",
       "      <td>tvSeries</td>\n",
       "      <td>8.1</td>\n",
       "      <td>250884.0</td>\n",
       "      <td>Crime,Drama,Fantasy</td>\n",
       "      <td>0</td>\n",
       "    </tr>\n",
       "    <tr>\n",
       "      <th>1</th>\n",
       "      <td>tt0993840</td>\n",
       "      <td>Army of the Dead</td>\n",
       "      <td>movie</td>\n",
       "      <td>5.8</td>\n",
       "      <td>110780.0</td>\n",
       "      <td>Action,Crime,Horror</td>\n",
       "      <td>0</td>\n",
       "    </tr>\n",
       "    <tr>\n",
       "      <th>2</th>\n",
       "      <td>tt7255502</td>\n",
       "      <td>The Kominsky Method</td>\n",
       "      <td>tvSeries</td>\n",
       "      <td>8.2</td>\n",
       "      <td>28795.0</td>\n",
       "      <td>Comedy,Drama</td>\n",
       "      <td>0</td>\n",
       "    </tr>\n",
       "    <tr>\n",
       "      <th>3</th>\n",
       "      <td>tt0108778</td>\n",
       "      <td>Friends</td>\n",
       "      <td>tvSeries</td>\n",
       "      <td>8.9</td>\n",
       "      <td>861843.0</td>\n",
       "      <td>Comedy,Romance</td>\n",
       "      <td>0</td>\n",
       "    </tr>\n",
       "    <tr>\n",
       "      <th>4</th>\n",
       "      <td>tt9251798</td>\n",
       "      <td>Ragnarok</td>\n",
       "      <td>tvSeries</td>\n",
       "      <td>7.5</td>\n",
       "      <td>26606.0</td>\n",
       "      <td>Action,Drama,Fantasy</td>\n",
       "      <td>0</td>\n",
       "    </tr>\n",
       "    <tr>\n",
       "      <th>...</th>\n",
       "      <td>...</td>\n",
       "      <td>...</td>\n",
       "      <td>...</td>\n",
       "      <td>...</td>\n",
       "      <td>...</td>\n",
       "      <td>...</td>\n",
       "      <td>...</td>\n",
       "    </tr>\n",
       "    <tr>\n",
       "      <th>5995</th>\n",
       "      <td>tt9771894</td>\n",
       "      <td>Ares</td>\n",
       "      <td>tvEpisode</td>\n",
       "      <td>6.5</td>\n",
       "      <td>191.0</td>\n",
       "      <td>Drama,Horror,Mystery</td>\n",
       "      <td>0</td>\n",
       "    </tr>\n",
       "    <tr>\n",
       "      <th>5996</th>\n",
       "      <td>tt9777386</td>\n",
       "      <td>Merry Happy Whatever</td>\n",
       "      <td>tvEpisode</td>\n",
       "      <td>6.1</td>\n",
       "      <td>221.0</td>\n",
       "      <td>Comedy</td>\n",
       "      <td>0</td>\n",
       "    </tr>\n",
       "    <tr>\n",
       "      <th>5997</th>\n",
       "      <td>tt9817600</td>\n",
       "      <td>Losers</td>\n",
       "      <td>tvEpisode</td>\n",
       "      <td>8.0</td>\n",
       "      <td>221.0</td>\n",
       "      <td>Documentary,Sport</td>\n",
       "      <td>0</td>\n",
       "    </tr>\n",
       "    <tr>\n",
       "      <th>5998</th>\n",
       "      <td>tt9842922</td>\n",
       "      <td>Firefly Lane</td>\n",
       "      <td>tvEpisode</td>\n",
       "      <td>7.3</td>\n",
       "      <td>380.0</td>\n",
       "      <td>Drama,Romance</td>\n",
       "      <td>0</td>\n",
       "    </tr>\n",
       "    <tr>\n",
       "      <th>5999</th>\n",
       "      <td>tt9865968</td>\n",
       "      <td>Medical Police</td>\n",
       "      <td>tvEpisode</td>\n",
       "      <td>6.6</td>\n",
       "      <td>133.0</td>\n",
       "      <td>Comedy</td>\n",
       "      <td>0</td>\n",
       "    </tr>\n",
       "  </tbody>\n",
       "</table>\n",
       "<p>6000 rows × 7 columns</p>\n",
       "</div>"
      ],
      "text/plain": [
       "        imdb_id                  title       type  rating  numVotes  \\\n",
       "0     tt4052886                Lucifer   tvSeries     8.1  250884.0   \n",
       "1     tt0993840       Army of the Dead      movie     5.8  110780.0   \n",
       "2     tt7255502    The Kominsky Method   tvSeries     8.2   28795.0   \n",
       "3     tt0108778                Friends   tvSeries     8.9  861843.0   \n",
       "4     tt9251798               Ragnarok   tvSeries     7.5   26606.0   \n",
       "...         ...                    ...        ...     ...       ...   \n",
       "5995  tt9771894                   Ares  tvEpisode     6.5     191.0   \n",
       "5996  tt9777386   Merry Happy Whatever  tvEpisode     6.1     221.0   \n",
       "5997  tt9817600                 Losers  tvEpisode     8.0     221.0   \n",
       "5998  tt9842922           Firefly Lane  tvEpisode     7.3     380.0   \n",
       "5999  tt9865968         Medical Police  tvEpisode     6.6     133.0   \n",
       "\n",
       "                    genres  isAdult  \n",
       "0      Crime,Drama,Fantasy        0  \n",
       "1      Action,Crime,Horror        0  \n",
       "2             Comedy,Drama        0  \n",
       "3           Comedy,Romance        0  \n",
       "4     Action,Drama,Fantasy        0  \n",
       "...                    ...      ...  \n",
       "5995  Drama,Horror,Mystery        0  \n",
       "5996                Comedy        0  \n",
       "5997     Documentary,Sport        0  \n",
       "5998         Drama,Romance        0  \n",
       "5999                Comedy        0  \n",
       "\n",
       "[6000 rows x 7 columns]"
      ]
     },
     "execution_count": 29,
     "metadata": {},
     "output_type": "execute_result"
    }
   ],
   "source": [
    "dff"
   ]
  },
  {
   "cell_type": "code",
   "execution_count": 30,
   "id": "04e2a19a-f260-4a10-b34e-aef7090fad8f",
   "metadata": {},
   "outputs": [
    {
     "data": {
      "text/plain": [
       "imdb_id     0\n",
       "title       0\n",
       "type        0\n",
       "rating      0\n",
       "numVotes    0\n",
       "genres      0\n",
       "isAdult     0\n",
       "dtype: int64"
      ]
     },
     "execution_count": 30,
     "metadata": {},
     "output_type": "execute_result"
    }
   ],
   "source": [
    "dff.isnull().sum()"
   ]
  },
  {
   "cell_type": "code",
   "execution_count": null,
   "id": "4998b2d9-4486-4f42-a395-3d96dbab7016",
   "metadata": {},
   "outputs": [],
   "source": []
  },
  {
   "cell_type": "markdown",
   "id": "a778a3b4-540f-4531-98e3-ef0511404fd7",
   "metadata": {},
   "source": [
    "### Distribution of Ratings:"
   ]
  },
  {
   "cell_type": "code",
   "execution_count": 33,
   "id": "a2296e75-86fa-4d99-86bb-5319f6b4655c",
   "metadata": {},
   "outputs": [
    {
     "data": {
      "image/png": "[encoded data removed]",
      "text/plain": [
       "<Figure size 640x480 with 1 Axes>"
      ]
     },
     "metadata": {},
     "output_type": "display_data"
    }
   ],
   "source": [
    "import matplotlib.pyplot as plt\n",
    "\n",
    "plt.hist(dff['rating'], bins=20, color='blue', edgecolor='black')\n",
    "plt.xlabel(\"Rating\")\n",
    "plt.ylabel(\"Count\")\n",
    "plt.title(\"Distribution of Ratings\")\n",
    "plt.show()"
   ]
  },
  {
   "cell_type": "code",
   "execution_count": null,
   "id": "5607708f-c806-44cd-a938-2efd4916b15c",
   "metadata": {},
   "outputs": [],
   "source": []
  },
  {
   "cell_type": "markdown",
   "id": "72add836-1ff2-4b9f-8c7d-c51b8a8e6c30",
   "metadata": {},
   "source": [
    "### Vectorization:"
   ]
  },
  {
   "cell_type": "code",
   "execution_count": 36,
   "id": "fae8ba06-6635-437f-a481-70ff46697840",
   "metadata": {},
   "outputs": [],
   "source": [
    "vect = TfidfVectorizer(stop_words='english')\n",
    "tfidf_matrix = vect.fit_transform(dff['genres'])"
   ]
  },
  {
   "cell_type": "code",
   "execution_count": null,
   "id": "3616e6da-b65b-422a-9062-112f68719241",
   "metadata": {},
   "outputs": [],
   "source": []
  },
  {
   "cell_type": "markdown",
   "id": "805b0da1-774b-478c-91ce-84dfc99ba63d",
   "metadata": {},
   "source": [
    "### Computing Cosine Similarity:"
   ]
  },
  {
   "cell_type": "code",
   "execution_count": 37,
   "id": "d444073a-7a88-4dc8-8c7b-79ea74669372",
   "metadata": {},
   "outputs": [],
   "source": [
    "cosine_sim = cosine_similarity(tfidf_matrix, tfidf_matrix)"
   ]
  },
  {
   "cell_type": "code",
   "execution_count": null,
   "id": "1bd2cdca-3b94-4c39-a53d-14b1eeac2b68",
   "metadata": {},
   "outputs": [],
   "source": []
  },
  {
   "cell_type": "markdown",
   "id": "c899f78b-d72f-45e8-bd69-7a51a3669a03",
   "metadata": {},
   "source": [
    "### Generating Movie Recommendations:"
   ]
  },
  {
   "cell_type": "code",
   "execution_count": 38,
   "id": "0fe0d6e5-f0c7-4212-b7cc-944f6834b7e6",
   "metadata": {},
   "outputs": [],
   "source": [
    "def recommend_movie(title, cosine_sim=cosine_sim):\n",
    "    # Get the index of the movie that matches the title\n",
    "    idx = dff[dff['title'] == title].index[0]\n",
    "\n",
    "    # Get a list of cosine similarities for that movie\n",
    "    sim_scores = list(enumerate(cosine_sim[idx]))\n",
    "\n",
    "    # Sort the movies based on similarity scores\n",
    "    sim_scores = sorted(sim_scores, key=lambda x: x[1], reverse=True)\n",
    "\n",
    "    # Get the indices of the most similar movies\n",
    "    sim_scores = sim_scores[1:6]  # Get top 5 recommendations\n",
    "    movie_indices = [i[0] for i in sim_scores]\n",
    "\n",
    "    # Return the top 5 most similar movies\n",
    "    return df['title'].iloc[movie_indices]"
   ]
  },
  {
   "cell_type": "code",
   "execution_count": null,
   "id": "abe8c5b1-2987-4aaf-9312-008c5e531a14",
   "metadata": {},
   "outputs": [],
   "source": []
  },
  {
   "cell_type": "code",
   "execution_count": null,
   "id": "944f428b-50c9-4bb1-a0c1-0db60f959fd2",
   "metadata": {},
   "outputs": [],
   "source": []
  },
  {
   "cell_type": "markdown",
   "id": "73033a6a-8f92-4bae-a74c-f0ffdbb1ab65",
   "metadata": {},
   "source": [
    "### Predictions:"
   ]
  },
  {
   "cell_type": "code",
   "execution_count": 39,
   "id": "e33ebc9e-6312-43e4-8114-248782f5ce1e",
   "metadata": {},
   "outputs": [
    {
     "name": "stdout",
     "output_type": "stream",
     "text": [
      "Recommended Movies for 'Friends':\n",
      "48     How I Met Your Mother\n",
      "236             Unbelievable\n",
      "241             Lo imposible\n",
      "247                   Colony\n",
      "349              Castle Rock\n",
      "Name: title, dtype: object\n"
     ]
    }
   ],
   "source": [
    "recommended_movies = recommend_movie('Friends')\n",
    "print(\"Recommended Movies for 'Friends':\")\n",
    "print(recommended_movies)"
   ]
  },
  {
   "cell_type": "code",
   "execution_count": 42,
   "id": "eea1d1c3-0625-40ad-b560-b9827f53e192",
   "metadata": {},
   "outputs": [
    {
     "name": "stdout",
     "output_type": "stream",
     "text": [
      "Recommended Movies for 'Grey's Anatomy':\n",
      "37            365 dni\n",
      "66         Bridgerton\n",
      "103      Virgin River\n",
      "149       Gossip Girl\n",
      "151    Dawson's Creek\n",
      "Name: title, dtype: object\n"
     ]
    }
   ],
   "source": [
    "recommended_movies = recommend_movie(\"Grey's Anatomy\")\n",
    "print(\"Recommended Movies for 'Grey's Anatomy':\")\n",
    "print(recommended_movies)"
   ]
  },
  {
   "cell_type": "code",
   "execution_count": null,
   "id": "14cbe270-3fc0-43dc-adf3-e26a5de491cf",
   "metadata": {},
   "outputs": [],
   "source": []
  }
 ],
 "metadata": {
  "kernelspec": {
   "display_name": "Python 3 (ipykernel)",
   "language": "python",
   "name": "python3"
  },
  "language_info": {
   "codemirror_mode": {
    "name": "ipython",
    "version": 3
   },
   "file_extension": ".py",
   "mimetype": "text/x-python",
   "name": "python",
   "nbconvert_exporter": "python",
   "pygments_lexer": "ipython3",
   "version": "3.12.4"
  }
 },
 "nbformat": 4,
 "nbformat_minor": 5
}
